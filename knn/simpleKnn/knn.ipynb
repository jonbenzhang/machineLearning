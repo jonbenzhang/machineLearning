{
 "cells": [
  {
   "cell_type": "code",
   "execution_count": 1,
   "metadata": {},
   "outputs": [],
   "source": [
    "import numpy as np\n",
    "import operator"
   ]
  },
  {
   "cell_type": "code",
   "execution_count": 10,
   "metadata": {},
   "outputs": [],
   "source": [
    "def createDataSet():\n",
    "        \"\"\"\n",
    "    函数说明：数据集生成\n",
    "    Parameters:\n",
    "    return :\n",
    "            group:训练集数据\n",
    "            label:训练集的分类标签\n",
    "    \"\"\"\n",
    "#     创建使用的数据集\n",
    "#     电影中亲吻镜头和打斗镜头的数量\n",
    "    group = np.array([[1,101],[5,100],[80,3],[110,6]])\n",
    "#     电影种类\n",
    "    label = [\"爱情片\",\"爱情片\",\"动作片\",\"动作片\"]\n",
    "    \n",
    "    return group, label"
   ]
  },
  {
   "cell_type": "code",
   "execution_count": 44,
   "metadata": {},
   "outputs": [],
   "source": [
    "def classify(intX, dataset, labels, k):\n",
    "    \"\"\"\n",
    "    函数说明：KNN算法\n",
    "    Parameters:\n",
    "            intX：用于测试的数据\n",
    "            dataset:训练使用数据\n",
    "            label:训练分类标签\n",
    "            k:KNN算法取距离最近的点的个数\n",
    "    return :\n",
    "            sortClassCount[0][0] 分类的结果\n",
    "    \"\"\"\n",
    "#     当为0的时候返回的是行数，当为1的时候返回的是列数\n",
    "    dataSetSize = dataset.shape[0]\n",
    "#     tile（a,(x,y)）把 数组a叠加为x行，y列\n",
    "    diffMat = np.tile(intX, (dataSetSize,1))-dataset\n",
    "    sqrtDiffMat = diffMat**2\n",
    "    # 行求和，求和完为一列；如果为0则是列求和，得到1行\n",
    "    sqDistance = sqrtDiffMat.sum(axis =1)\n",
    "    distance = np.sqrt(sqDistance)\n",
    "    # 返回的是排序的索引\n",
    "    sortDistance = distance.argsort()\n",
    "    classCount = {}\n",
    "    for i in range(k):\n",
    "        voteLabel = labels[sortDistance[i]]\n",
    "        classCount[voteLabel] = classCount.get(voteLabel,0)+1\n",
    "    #key=operator.itemgetter(1)根据字典的值进行排序\n",
    "    #key=operator.itemgetter(0)根据字典的键进行排序 \n",
    "    sortClassCount = sorted(classCount.items(),key=operator.itemgetter(1),reverse=True)\n",
    "    return sortClassCount[0][0]"
   ]
  },
  {
   "cell_type": "code",
   "execution_count": 25,
   "metadata": {},
   "outputs": [],
   "source": [
    "group ,label= createDataSet()"
   ]
  },
  {
   "cell_type": "code",
   "execution_count": 45,
   "metadata": {},
   "outputs": [],
   "source": [
    "b = classify([60,1],group, label,3)"
   ]
  },
  {
   "cell_type": "code",
   "execution_count": 46,
   "metadata": {},
   "outputs": [
    {
     "name": "stdout",
     "output_type": "stream",
     "text": [
      "动作片\n"
     ]
    }
   ],
   "source": [
    "print(b)"
   ]
  }
 ],
 "metadata": {
  "kernelspec": {
   "display_name": "Python 3",
   "language": "python",
   "name": "python3"
  },
  "language_info": {
   "codemirror_mode": {
    "name": "ipython",
    "version": 3
   },
   "file_extension": ".py",
   "mimetype": "text/x-python",
   "name": "python",
   "nbconvert_exporter": "python",
   "pygments_lexer": "ipython3",
   "version": "3.6.7"
  }
 },
 "nbformat": 4,
 "nbformat_minor": 2
}
