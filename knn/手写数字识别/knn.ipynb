{
 "cells": [
  {
   "cell_type": "code",
   "execution_count": 65,
   "metadata": {},
   "outputs": [],
   "source": [
    "import numpy as np\n",
    "import operator\n",
    "import os\n",
    "from sklearn.neighbors import KNeighborsClassifier as kNN\n",
    "\n"
   ]
  },
  {
   "cell_type": "code",
   "execution_count": 66,
   "metadata": {},
   "outputs": [],
   "source": [
    "def imgVector(filename):\n",
    "    \"\"\"\n",
    "    函数说明：读取一个手写数字的文件，把它转为0*1024的数组\n",
    "    Parameters:\n",
    "            filename:文件地址名\n",
    "    Return:\n",
    "            ReturnVector:转化的0*1024的数组\n",
    "    \n",
    "    \"\"\"\n",
    "    returnVector = np.zeros((1,1024))\n",
    "    with open(filename,\"r\",encoding=\"utf-8\") as file:\n",
    "        fileLines = file.readlines()\n",
    "        for i,fileLine in enumerate(fileLines):\n",
    "            for j in range(32):\n",
    "                \n",
    "                returnVector[0,32*i+j] = float(fileLine[j])\n",
    "    return returnVector"
   ]
  },
  {
   "cell_type": "code",
   "execution_count": 67,
   "metadata": {},
   "outputs": [],
   "source": [
    "a = imgVector(\"trainingDigits/0_0.txt\")"
   ]
  },
  {
   "cell_type": "code",
   "execution_count": 90,
   "metadata": {},
   "outputs": [],
   "source": [
    "def KnnclassTest():\n",
    "    \"\"\"\n",
    "    函数说明：使用测试集，测试算法（knn使用sklearn中的knn算法）\n",
    "    Parameters:\n",
    "            \n",
    "    Return:\n",
    "            errorProbability：书写数字识别错误的错误率\n",
    "    \n",
    "    \"\"\"\n",
    "    # 把训练集的n个手写数字，转化为n*1024的数组，类别依次写入trainLabel（成为一个1*1024的数组）\n",
    "    \n",
    "    trainLabel = []\n",
    "    trainFileList = os.listdir(\"trainingDigits/\")\n",
    "    trainLenth = len(trainFileList)\n",
    "    trainMat = np.zeros((trainLenth, 1024))\n",
    "    for i in range(trainLenth):\n",
    "        fileNameStr = trainFileList[i]\n",
    "        classNumber = fileNameStr[0]\n",
    "        trainLabel.append(classNumber)\n",
    "        trainMat[i,:] = imgVector(\"trainingDigits/\"+fileNameStr)\n",
    "    # 构建KNN分类器,默认临近节点为3，auto为自动选择合适算法\n",
    "    neigh = kNN(n_neighbors = 3, algorithm = 'auto')\n",
    "    # 向KNN分类器喂入数据\n",
    "    neigh.fit(trainMat,trainLabel)\n",
    "    # 把测试集数据依次放入\n",
    "    testFileList = os.listdir(\"testDigits\")\n",
    "    errorCount = 0\n",
    "    testLenth = len(testFileList)\n",
    "    for i in range(testLenth):\n",
    "        fileNameStr = testFileList[i]\n",
    "        classNumber = fileNameStr[0]\n",
    "        testVector = imgVector(\"testDigits/\"+fileNameStr)\n",
    "        classify = neigh.predict(testVector)\n",
    "        if classify != classNumber:\n",
    "            errorCount +=1\n",
    "    # 计算错误率\n",
    "    errorProbability = errorCount/testLenth\n",
    "    return errorProbability\n",
    "            \n",
    "    \n",
    "    "
   ]
  },
  {
   "cell_type": "code",
   "execution_count": 91,
   "metadata": {},
   "outputs": [],
   "source": [
    "errorProbability = KnnclassTest()"
   ]
  },
  {
   "cell_type": "code",
   "execution_count": 92,
   "metadata": {},
   "outputs": [
    {
     "name": "stdout",
     "output_type": "stream",
     "text": [
      "错误率为1.16%\n"
     ]
    }
   ],
   "source": [
    "print(\"错误率为%.2f%%\"%(errorProbability*100))"
   ]
  },
  {
   "cell_type": "code",
   "execution_count": null,
   "metadata": {},
   "outputs": [],
   "source": []
  }
 ],
 "metadata": {
  "kernelspec": {
   "display_name": "Python 3",
   "language": "python",
   "name": "python3"
  },
  "language_info": {
   "codemirror_mode": {
    "name": "ipython",
    "version": 3
   },
   "file_extension": ".py",
   "mimetype": "text/x-python",
   "name": "python",
   "nbconvert_exporter": "python",
   "pygments_lexer": "ipython3",
   "version": "3.6.7"
  }
 },
 "nbformat": 4,
 "nbformat_minor": 2
}
