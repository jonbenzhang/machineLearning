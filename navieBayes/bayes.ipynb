{
 "cells": [
  {
   "cell_type": "code",
   "execution_count": 1,
   "metadata": {},
   "outputs": [],
   "source": [
    "import numpy as np"
   ]
  },
  {
   "cell_type": "markdown",
   "metadata": {},
   "source": [
    "# 数据创建"
   ]
  },
  {
   "cell_type": "code",
   "execution_count": 7,
   "metadata": {},
   "outputs": [],
   "source": [
    "def loadDataSet():\n",
    "    \"\"\"\n",
    "    函数说明:创建训练数据\n",
    "    Parameters:\n",
    "    Return: \n",
    "            postingList:句子切分后的的词语\n",
    "            classVector:每一个句子的类别\n",
    "    \"\"\"\n",
    "    postingList=[['my', 'dog', 'has', 'flea', 'problems', 'help', 'please'],  #切分的词条\n",
    "                ['maybe', 'not', 'take', 'him', 'to', 'dog', 'park', 'stupid'],\n",
    "                ['my', 'dalmation', 'is', 'so', 'cute', 'I', 'love', 'him'],\n",
    "                ['stop', 'posting', 'stupid', 'worthless', 'garbage'],\n",
    "                ['mr', 'licks', 'ate', 'my', 'steak', 'how', 'to', 'stop', 'him'],\n",
    "                ['quit', 'buying', 'worthless', 'dog', 'food', 'stupid']]\n",
    "    classVec = [0,1,0,1,0,1] #类别标签向量，1代表侮辱性词汇，0代表不是\n",
    "    return postingList,classVector"
   ]
  },
  {
   "cell_type": "code",
   "execution_count": 28,
   "metadata": {},
   "outputs": [],
   "source": [
    "def createWordSet(wordLists):\n",
    "    \"\"\"\n",
    "    函数说明:创建无重复的词库表\n",
    "    Parameters:\n",
    "            wordList:用来创建词表的所有语句\n",
    "    Return: \n",
    "            wordSet:无重复的词表\n",
    "    \"\"\"\n",
    "    wordSet = set([])\n",
    "    for wordList in wordLists:\n",
    "        wordSet = wordSet|set(wordList)\n",
    "    return list(wordSet)"
   ]
  },
  {
   "cell_type": "code",
   "execution_count": 42,
   "metadata": {},
   "outputs": [],
   "source": [
    "def createWordVector(wordSet,wordList):\n",
    "    \"\"\"\n",
    "    函数说明:创建一句话对应的词向量\n",
    "    Parameters:\n",
    "            wordSet:词库表\n",
    "            wordList:句子中的词语组成的列表\n",
    "    Return:\n",
    "            wordVector:句子对应的词向量表\n",
    "    \"\"\"\n",
    "    wordVectorLength = len(wordSet)\n",
    "    wordVector = np.zeros([wordVectorLength])\n",
    "    for index,word in enumerate(wordSet):\n",
    "        if word in wordList:\n",
    "            wordVector[index]=1\n",
    "    return wordVector        "
   ]
  },
  {
   "cell_type": "code",
   "execution_count": 43,
   "metadata": {},
   "outputs": [],
   "source": [
    "#调用上方函数测试数据\n",
    "# 创建数据\n",
    "postingList,classVector = loadDataSet()\n",
    "# 创建词库表\n",
    "wordSet = createWordSet(postingList)"
   ]
  },
  {
   "cell_type": "code",
   "execution_count": 50,
   "metadata": {},
   "outputs": [],
   "source": [
    "def createWordVecors(wordSet,wordLists):\n",
    "    \"\"\"\n",
    "    函数说明:创建所有词语对应的向量矩阵\n",
    "    Parameters:\n",
    "            wordSet:词库表\n",
    "            wordListｓ:句子中的词语组成的列表的集合\n",
    "    Return:\n",
    "            wordVector:所有句子对应的词向量表\n",
    "    \"\"\"\n",
    "    wordVectors = []\n",
    "    for wordList in wordLists:\n",
    "        wordVector = createWordVector(wordSet,wordList)\n",
    "        wordVectors.append(wordVector)\n",
    "    return wordVectors"
   ]
  },
  {
   "cell_type": "code",
   "execution_count": 53,
   "metadata": {},
   "outputs": [],
   "source": [
    "# 测试\n",
    "wordVecors=createWordVecors(wordSet,postingList)"
   ]
  },
  {
   "cell_type": "code",
   "execution_count": 59,
   "metadata": {},
   "outputs": [],
   "source": [
    "def trainNivaBayes(wordVectors,classVector):\n",
    "    \"\"\"\n",
    "    函数说明：计算是侮辱性句子的概率，以及侮辱句子和非侮辱性句子中的词语比例\n",
    "    Parameters:\n",
    "            wordVectors:词向量组成的矩阵\n",
    "            classVector:类别组成的向量\n",
    "    Return:\n",
    "            yesVector/numberOfYes：一个词语在侮辱性句子中所占的概率\n",
    "            noVector/numberOfNo：一个词语在非侮辱性句子中所占的概率\n",
    "            yesProbability:侮辱性句子的概率\n",
    "    \"\"\"\n",
    "    \n",
    "    vectorLength = len(wordVectors[0])\n",
    "    # 是侮辱性句子的概率\n",
    "    yesProbability = sum(classVector)/float(len(classVector))\n",
    "    # 总的侮辱性句子中词语的个数\n",
    "    numberOfYes = 0.0\n",
    "    # 总的非侮辱性句子中词语的个数\n",
    "    numberOfNo = 0.0\n",
    "    # 侮辱性句子的向量\n",
    "    yesVector = np.zeros([vectorLength])\n",
    "    #　不是侮辱性句子的向量\n",
    "    noVector = np.zeros([vectorLength])\n",
    "    for index,wordVector in enumerate(wordVectors):\n",
    "        if classVector[index]==1:\n",
    "            numberOfYes+=sum(wordVector)\n",
    "            yesVector+=wordVector\n",
    "        else:\n",
    "            numberOfNo+=sum(wordVector)\n",
    "            noVector+=wordVector\n",
    "        \n",
    "    return yesVector/numberOfYes,noVector/numberOfNo,yesProbability\n",
    "    "
   ]
  },
  {
   "cell_type": "code",
   "execution_count": 60,
   "metadata": {},
   "outputs": [
    {
     "data": {
      "text/plain": [
       "array([0.05263158, 0.        , 0.05263158, 0.15789474, 0.        ,\n",
       "       0.        , 0.        , 0.        , 0.        , 0.        ,\n",
       "       0.        , 0.05263158, 0.05263158, 0.        , 0.        ,\n",
       "       0.        , 0.05263158, 0.10526316, 0.        , 0.05263158,\n",
       "       0.05263158, 0.05263158, 0.05263158, 0.        , 0.        ,\n",
       "       0.05263158, 0.05263158, 0.        , 0.10526316, 0.        ,\n",
       "       0.        , 0.05263158])"
      ]
     },
     "execution_count": 60,
     "metadata": {},
     "output_type": "execute_result"
    }
   ],
   "source": [
    "trainNivaBayes(wordVecors,classVector)[0]"
   ]
  },
  {
   "cell_type": "code",
   "execution_count": 34,
   "metadata": {},
   "outputs": [
    {
     "data": {
      "text/plain": [
       "7"
      ]
     },
     "execution_count": 34,
     "metadata": {},
     "output_type": "execute_result"
    }
   ],
   "source": [
    "len(postingList[0])"
   ]
  },
  {
   "cell_type": "code",
   "execution_count": 13,
   "metadata": {},
   "outputs": [
    {
     "data": {
      "text/plain": [
       "(2,)"
      ]
     },
     "execution_count": 13,
     "metadata": {},
     "output_type": "execute_result"
    }
   ],
   "source": [
    "np.array([\"nn\",\"dd\"]).shape"
   ]
  },
  {
   "cell_type": "code",
   "execution_count": 21,
   "metadata": {},
   "outputs": [
    {
     "name": "stdout",
     "output_type": "stream",
     "text": [
      "0\n",
      "1\n"
     ]
    }
   ],
   "source": [
    "for i,j in enumerate([6,5]):\n",
    "    print(i)"
   ]
  },
  {
   "cell_type": "code",
   "execution_count": 38,
   "metadata": {},
   "outputs": [
    {
     "data": {
      "text/plain": [
       "array([0., 0., 0., 0., 0., 0., 0.])"
      ]
     },
     "execution_count": 38,
     "metadata": {},
     "output_type": "execute_result"
    }
   ],
   "source": [
    "np.zeros([7])"
   ]
  },
  {
   "cell_type": "code",
   "execution_count": null,
   "metadata": {},
   "outputs": [],
   "source": []
  }
 ],
 "metadata": {
  "kernelspec": {
   "display_name": "Python 3",
   "language": "python",
   "name": "python3"
  },
  "language_info": {
   "codemirror_mode": {
    "name": "ipython",
    "version": 3
   },
   "file_extension": ".py",
   "mimetype": "text/x-python",
   "name": "python",
   "nbconvert_exporter": "python",
   "pygments_lexer": "ipython3",
   "version": "3.7.3"
  }
 },
 "nbformat": 4,
 "nbformat_minor": 2
}
