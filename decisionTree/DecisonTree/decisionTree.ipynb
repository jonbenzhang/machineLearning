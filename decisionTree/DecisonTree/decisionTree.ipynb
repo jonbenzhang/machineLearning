{
 "cells": [
  {
   "cell_type": "markdown",
   "metadata": {},
   "source": [
    "# 创建生成使用的数据集"
   ]
  },
  {
   "cell_type": "code",
   "execution_count": 25,
   "metadata": {},
   "outputs": [],
   "source": [
    "def createDataSet():\n",
    "    \"\"\"\n",
    "    函数说明:创建数据集\n",
    "    Return:\n",
    "            dataSet:创建的数据集\n",
    "            labels:数据集中数据对应的标签\n",
    "    \n",
    "    \"\"\"\n",
    "    dataSet = [[0, 0, 0, 0, 'no'],#数据集\n",
    "             [0, 0, 0, 1, 'no'],\n",
    "             [0, 1, 0, 1, 'yes'],\n",
    "             [0, 1, 1, 0, 'yes'],\n",
    "             [0, 0, 0, 0, 'no'],\n",
    "             [1, 0, 0, 0, 'no'],\n",
    "             [1, 0, 0, 1, 'no'],\n",
    "             [1, 1, 1, 1, 'yes'],\n",
    "             [1, 0, 1, 2, 'yes'],\n",
    "             [1, 0, 1, 2, 'yes'],\n",
    "             [2, 0, 1, 2, 'yes'],\n",
    "             [2, 0, 1, 1, 'yes'],\n",
    "             [2, 1, 0, 1, 'yes'],\n",
    "             [2, 1, 0, 2, 'yes'],\n",
    "             [2, 0, 0, 0, 'no']]\n",
    "    labels = ['年龄', '有工作', '有自己的房子', '信贷情况']#特征标签\n",
    "    return dataSet, labels"
   ]
  },
  {
   "cell_type": "code",
   "execution_count": 56,
   "metadata": {},
   "outputs": [],
   "source": [
    "dataSet, labels1 = createDataSet()"
   ]
  },
  {
   "cell_type": "markdown",
   "metadata": {},
   "source": [
    "# 决策树的构建和训练模型"
   ]
  },
  {
   "cell_type": "code",
   "execution_count": 23,
   "metadata": {},
   "outputs": [],
   "source": [
    "import math\n",
    "import operator"
   ]
  },
  {
   "cell_type": "code",
   "execution_count": 24,
   "metadata": {},
   "outputs": [],
   "source": [
    "def informationEntropy(dataset):\n",
    "    \"\"\"\n",
    "    函数声明:计算给定数据集的信息熵\n",
    "    Parameters:\n",
    "            dataset:要求信息熵的数据集\n",
    "    Return:\n",
    "            entopy:求出的信息熵\n",
    "    \"\"\"\n",
    "    # 要返回的信息熵\n",
    "    entropy = 0\n",
    "    numbersOfEntity = len(dataset)\n",
    "    # 取dataset中所有拥有的种类，转化为集合去重\n",
    "    allClassifiesCount = {}\n",
    "    for entity in dataset:\n",
    "        entityClassify = entity[-1]\n",
    "        if not entityClassify in allClassifiesCount:\n",
    "            allClassifiesCount[entityClassify] = 0\n",
    "        \n",
    "        allClassifiesCount[entityClassify]+=1\n",
    "    for classify in allClassifiesCount:\n",
    "        probaility = allClassifiesCount[classify]/numbersOfEntity\n",
    "        entropy-=probaility*math.log(probaility,2) \n",
    "    return entropy\n",
    "            \n",
    "    \n",
    "    "
   ]
  },
  {
   "cell_type": "code",
   "execution_count": 36,
   "metadata": {},
   "outputs": [],
   "source": [
    "a= [[1],[1],[2]]"
   ]
  },
  {
   "cell_type": "code",
   "execution_count": 37,
   "metadata": {},
   "outputs": [
    {
     "data": {
      "text/plain": [
       "0.9182958340544896"
      ]
     },
     "execution_count": 37,
     "metadata": {},
     "output_type": "execute_result"
    }
   ],
   "source": [
    "informationEntropy(a)"
   ]
  },
  {
   "cell_type": "code",
   "execution_count": 27,
   "metadata": {},
   "outputs": [
    {
     "data": {
      "text/plain": [
       "0.9709505944546686"
      ]
     },
     "execution_count": 27,
     "metadata": {},
     "output_type": "execute_result"
    }
   ],
   "source": [
    "informationEntropy(dataSet)"
   ]
  },
  {
   "cell_type": "code",
   "execution_count": 28,
   "metadata": {},
   "outputs": [],
   "source": [
    "def splitDataset(dataset,axis,value):\n",
    "    \"\"\"\n",
    "    函数说明:对数据集按照特征进行划分，如果axis上的变量值等于value，就添加到要返回的数据集中\n",
    "    Parameters:\n",
    "            dataset:数据集\n",
    "            axis:要进行划分的特征\n",
    "            value:划分要求的特征值\n",
    "    Return:\n",
    "            returnDataset:划分后的数据集\n",
    "    \"\"\"\n",
    "    returnDataset=[]\n",
    "    for entry in dataset:\n",
    "        if entry[axis] == value:\n",
    "            returnDataset.append(entry[0:axis]+entry[axis+1:])\n",
    "    return returnDataset\n",
    "            \n",
    "            "
   ]
  },
  {
   "cell_type": "code",
   "execution_count": 29,
   "metadata": {},
   "outputs": [
    {
     "data": {
      "text/plain": [
       "[[0, 0, 0, 'no'],\n",
       " [0, 0, 1, 'no'],\n",
       " [1, 0, 1, 'yes'],\n",
       " [1, 1, 0, 'yes'],\n",
       " [0, 0, 0, 'no']]"
      ]
     },
     "execution_count": 29,
     "metadata": {},
     "output_type": "execute_result"
    }
   ],
   "source": [
    "splitDataset(dataSet,0,0)"
   ]
  },
  {
   "cell_type": "code",
   "execution_count": 30,
   "metadata": {},
   "outputs": [],
   "source": [
    "def selectBestSplit(dataset):\n",
    "    \"\"\"\n",
    "    函数说明：对数据集用每种特征进行划分，选择信息增益的特征进行划分\n",
    "    Parameters:\n",
    "            dataset:要进行划分的数据集\n",
    "    Return:\n",
    "            feature:要选取的特征\n",
    "    \"\"\"\n",
    "    # 数据集中所有实体\n",
    "    numberOfEntity = len(dataset)\n",
    "    # 特征的数量\n",
    "    numberOfFeature = len(dataset[0])-1\n",
    "    # 未进行划分时的信息熵\n",
    "    baseInformationEntropy = informationEntropy(dataset)\n",
    "    # 最好的信息增益\n",
    "    bestInformationGain = 0.0\n",
    "    # 进行划分信息增益最多的特征\n",
    "    bestFesture = -1\n",
    "    for feature in range(numberOfFeature):\n",
    "        \"\"\"\n",
    "        依次对每一种特征进行性划分，并计算使用这种特征进行划分的信息熵\n",
    "        \"\"\"\n",
    "        # 该特征的所有可能的值\n",
    "        featureOfValues = set([entity[feature] for entity in dataset])\n",
    "        # 这次划分得到的信息熵\n",
    "        newInformationEntropy = 0.0\n",
    "        for value in featureOfValues:\n",
    "            \"\"\"\n",
    "            依次按照此特征的所有可能的值进行划分\n",
    "            \"\"\"\n",
    "            # 调用函数，得到划分得到的数据集合\n",
    "            oneOfSplitDataset = splitDataset(dataset,feature,value)\n",
    "            # 得到的集合的唱的\n",
    "            lenthOneOfSplitDataset = len(oneOfSplitDataset)\n",
    "            # 使用这种特征的可能的值得到实体的概率\n",
    "            probaility = lenthOneOfSplitDataset/numberOfEntity\n",
    "            # 计算这种特征划分后的信息熵\n",
    "            newInformationEntropy+=probaility*informationEntropy(oneOfSplitDataset)\n",
    "        # 计算信息增益\n",
    "        informationGain = baseInformationEntropy - newInformationEntropy\n",
    "        # 找到信息增益最多的划分特征\n",
    "        if(informationGain>bestInformationGain):\n",
    "            bestFesture = feature\n",
    "    return bestFesture\n",
    "            \n",
    "            \n",
    "        \n",
    "    "
   ]
  },
  {
   "cell_type": "code",
   "execution_count": 31,
   "metadata": {},
   "outputs": [
    {
     "data": {
      "text/plain": [
       "3"
      ]
     },
     "execution_count": 31,
     "metadata": {},
     "output_type": "execute_result"
    }
   ],
   "source": [
    "selectBestSplit(dataSet)"
   ]
  },
  {
   "cell_type": "code",
   "execution_count": 32,
   "metadata": {},
   "outputs": [],
   "source": [
    "def majorityCut(classifyList):\n",
    "    \"\"\"\n",
    "    函数说明：找到最多的分类\n",
    "    Parameters: \n",
    "            classifyList：要查找的列表\n",
    "    Return:\n",
    "            sortclassifySet[0][0]：列表中占比最大的种类\n",
    "    \"\"\"\n",
    "    classifySet = {}\n",
    "    for classify in classifyList:\n",
    "        if classify not in classifySet:\n",
    "            classifySet[classify] = 0\n",
    "        classifySet[classify]+=1\n",
    "    sortclassifySet = sorted(classifySet.items(),key = operator.itemgetter(1), reverse=True)\n",
    "    return sortclassifySet[0][0]\n",
    "        "
   ]
  },
  {
   "cell_type": "code",
   "execution_count": 33,
   "metadata": {},
   "outputs": [
    {
     "data": {
      "text/plain": [
       "1"
      ]
     },
     "execution_count": 33,
     "metadata": {},
     "output_type": "execute_result"
    }
   ],
   "source": [
    "majorityCut(a)"
   ]
  },
  {
   "cell_type": "code",
   "execution_count": 57,
   "metadata": {},
   "outputs": [],
   "source": [
    "def createDecisionTree(dataset,labels):\n",
    "    \"\"\"\n",
    "    函数说明:创建决策树\n",
    "    Parameters:\n",
    "            dataset:要创建决策树的数据集\n",
    "            labels:分类的类别标签\n",
    "    Return:\n",
    "            decisionTree:决策树\n",
    "    \n",
    "    \"\"\"\n",
    "    labels = labels[:]\n",
    "    classList = [entity[-1] for entity in dataset]\n",
    "    # 判断是否结束并返回\n",
    "    if len(set(classList))==1:\n",
    "        return classList[0]\n",
    "    if len(dataset[0])==1:\n",
    "        return majorityCut(classList)\n",
    "    #找到最佳划分特征\n",
    "    bestFeture = selectBestSplit(dataset)\n",
    "    #最佳划分特征的标签\n",
    "    bestFetureLabel = labels[bestFeture]\n",
    "    # 删除已经使用过的特征\n",
    "    del labels[bestFeture]\n",
    "    # 决策数特征对应的判断\n",
    "    DecisionTree = {bestFetureLabel:{}}\n",
    "    # 查找此特征的所有值\n",
    "    bestFetureValues = set([entity[bestFeture] for entity in dataset])\n",
    "    for bestFetureValue in bestFetureValues:\n",
    "        \"\"\"\n",
    "        按照此特征的不同，划分数据集\n",
    "        \"\"\"\n",
    "        nextLabels = labels[:]\n",
    "        DecisionTree[bestFetureLabel][bestFetureValue] = \\\n",
    "        createDecisionTree(splitDataset(dataset,bestFeture,bestFetureValue),nextLabels)\n",
    "    return DecisionTree\n",
    "    \n",
    "    \n",
    "\n",
    "    "
   ]
  },
  {
   "cell_type": "code",
   "execution_count": 58,
   "metadata": {},
   "outputs": [],
   "source": [
    "dataSet, labels1 = createDataSet()"
   ]
  },
  {
   "cell_type": "code",
   "execution_count": 267,
   "metadata": {},
   "outputs": [],
   "source": [
    "mytree = createDecisionTree(dataSet,labels1)"
   ]
  },
  {
   "cell_type": "markdown",
   "metadata": {},
   "source": [
    "# 模型存储和读取"
   ]
  },
  {
   "cell_type": "code",
   "execution_count": 96,
   "metadata": {},
   "outputs": [],
   "source": [
    "import pickle"
   ]
  },
  {
   "cell_type": "code",
   "execution_count": 121,
   "metadata": {},
   "outputs": [],
   "source": [
    "def saveTree(decisionTree,saveFile):\n",
    "    \"\"\"\n",
    "    函数说明：进行序列化存储\n",
    "    Parameters:\n",
    "            decisionTree:训练得到的决策树\n",
    "            saveFile:要进行存储的文件位置\n",
    "    \"\"\"\n",
    "    with open(saveFile,\"wb\") as file:\n",
    "        pickle.dump(decisionTree, file)"
   ]
  },
  {
   "cell_type": "code",
   "execution_count": 122,
   "metadata": {},
   "outputs": [],
   "source": [
    "def readTree(treeFile):\n",
    "    \"\"\"\n",
    "    函数说明：进行序列化读取\n",
    "    Parameters:\n",
    "            treeFile:要进行读取的文件位置\n",
    "    Return:\n",
    "            tree:读取到决策树数据\n",
    "    \"\"\"\n",
    "    with open(treeFile,\"rb\") as file:\n",
    "        tree = pickle.load(file)\n",
    "        return tree"
   ]
  },
  {
   "cell_type": "code",
   "execution_count": 123,
   "metadata": {},
   "outputs": [],
   "source": [
    "saveTree(tree，\"decisionTree\")"
   ]
  },
  {
   "cell_type": "code",
   "execution_count": 124,
   "metadata": {},
   "outputs": [
    {
     "data": {
      "text/plain": [
       "{'信贷情况': {0: {'有自己的房子': {0: 'no', 1: 'yes'}},\n",
       "  1: {'有自己的房子': {0: {'有工作': {0: 'no', 1: 'yes'}}, 1: 'yes'}},\n",
       "  2: 'yes'}}"
      ]
     },
     "execution_count": 124,
     "metadata": {},
     "output_type": "execute_result"
    }
   ],
   "source": [
    "readTree(\"decisionTree\")"
   ]
  },
  {
   "cell_type": "markdown",
   "metadata": {},
   "source": [
    "# 模型调用"
   ]
  },
  {
   "cell_type": "code",
   "execution_count": 60,
   "metadata": {},
   "outputs": [],
   "source": [
    "def classify(decisionTree, featureLabel, testVec):\n",
    "        \"\"\"\n",
    "    函数说明:调用决策树模型\n",
    "    Parameters:\n",
    "            dataset:决策树\n",
    "            labels:特征名称组成的列表\n",
    "            testVec:测试人每个特征对应的的值\n",
    "    Return:\n",
    "            decisionTree:决策树\n",
    "    \n",
    "    \"\"\"\n",
    "    # 查询的特征\n",
    "    firstFeature = list(decisionTree.keys())[0]\n",
    "    #　查询特征对应的索引\n",
    "    indexOfFeature = featureLabel.index(firstFeature)\n",
    "    # 查询特征对应的值\n",
    "    firstFeatureValue = testVec[indexOfFeature]\n",
    "    # 查询后匹配到的决策树\n",
    "    nextTree = decisionTree[firstFeature][firstFeatureValue]\n",
    "    if isinstance(nextTree,dict):\n",
    "        \"\"\"\n",
    "        查找最后的结果\n",
    "        判断返回是否是最后结果，如果是就结束递归\n",
    "        \"\"\"\n",
    "        return classify(nextTree,featureLabel,testVec)\n",
    "    else:\n",
    "        return nextTree"
   ]
  },
  {
   "cell_type": "code",
   "execution_count": 61,
   "metadata": {},
   "outputs": [
    {
     "data": {
      "text/plain": [
       "'no'"
      ]
     },
     "execution_count": 61,
     "metadata": {},
     "output_type": "execute_result"
    }
   ],
   "source": [
    "classify(tree,labels1,[0, 0, 0, 1])"
   ]
  },
  {
   "cell_type": "code",
   "execution_count": 128,
   "metadata": {},
   "outputs": [
    {
     "data": {
      "text/plain": [
       "(['年龄', '有工作', '有自己的房子', '信贷情况'],\n",
       " [[0, 0, 0, 0, 'no'],\n",
       "  [0, 0, 0, 1, 'no'],\n",
       "  [0, 1, 0, 1, 'yes'],\n",
       "  [0, 1, 1, 0, 'yes'],\n",
       "  [0, 0, 0, 0, 'no'],\n",
       "  [1, 0, 0, 0, 'no'],\n",
       "  [1, 0, 0, 1, 'no'],\n",
       "  [1, 1, 1, 1, 'yes'],\n",
       "  [1, 0, 1, 2, 'yes'],\n",
       "  [1, 0, 1, 2, 'yes'],\n",
       "  [2, 0, 1, 2, 'yes'],\n",
       "  [2, 0, 1, 1, 'yes'],\n",
       "  [2, 1, 0, 1, 'yes'],\n",
       "  [2, 1, 0, 2, 'yes'],\n",
       "  [2, 0, 0, 0, 'no']])"
      ]
     },
     "execution_count": 128,
     "metadata": {},
     "output_type": "execute_result"
    }
   ],
   "source": [
    "labels1,dataSet"
   ]
  },
  {
   "cell_type": "code",
   "execution_count": 287,
   "metadata": {},
   "outputs": [
    {
     "data": {
      "text/plain": [
       "{0: {'有自己的房子': {0: 'no', 1: 'yes'}},\n",
       " 1: {'有自己的房子': {0: {'有工作': {0: 'no', 1: 'yes'}}, 1: 'yes'}},\n",
       " 2: 'yes'}"
      ]
     },
     "execution_count": 287,
     "metadata": {},
     "output_type": "execute_result"
    }
   ],
   "source": [
    "mytree['信贷情况']"
   ]
  },
  {
   "cell_type": "markdown",
   "metadata": {},
   "source": [
    "# 决策树可视化"
   ]
  },
  {
   "cell_type": "code",
   "execution_count": 372,
   "metadata": {},
   "outputs": [],
   "source": [
    "from graphviz import Digraph\n",
    "\n",
    "def drawTree(tree):\n",
    "    \"\"\"\n",
    "    函数说明:绘画出决策树的图像\n",
    "    Parameters:\n",
    "            tree：训练得到的决策树，字典\n",
    "    \"\"\"\n",
    "    # 创建graphviz画图使用的对象\n",
    "    # 使用graph_attr, node_attr, edge_attr参数, 你可以更改图中节点和边的显示样式:全局配置\n",
    "    dot = Digraph(name=\"myTree\",comment=\"draw decisionTree\", format=\"png\",node_attr={'shape': 'box'})\n",
    "    dot.shape=\"record\"\n",
    "#     dot.node(shape=\"record\")\n",
    "    # 区分节点使用的名字，使用chr把数字转化为名字\n",
    "    nodeNumber= 65\n",
    "    print(666,nodeNumber)\n",
    "    def draw(tree,previousNodeName=\"noHave\",previousValue='noHave'):\n",
    "        nonlocal nodeNumber\n",
    "        # 每一次加4，以保证使用的名字不同\n",
    "        nodeNumber = nodeNumber+4\n",
    "        firstNodeName = chr(nodeNumber)\n",
    "        firstNode = list(tree.keys())[0]\n",
    "        dot.node(name=firstNodeName,label=firstNode)\n",
    "        print(\"***************\",firstNode,nodeNumber,firstNodeName)\n",
    "\n",
    "        if not previousNodeName ==\"noHave\":\n",
    "            dot.edge(previousNodeName,firstNodeName,label=str(previousValue),shape=\"Mdiamond\")\n",
    "        nextNodeNumber = 0\n",
    "        for value in tree.get(firstNode):\n",
    "            # 因为有时在for循环中运行因为是叶子节点不递归调用函数，所以会出现名字重复的情况，所以为了保证名字不重复，进行加4\n",
    "            nodeNumber = nodeNumber+4\n",
    "            nextNodeNumber = nextNodeNumber+1\n",
    "            nextNodeName = chr(nodeNumber+nextNodeNumber)\n",
    "            nextNode = tree[firstNode].get(value)\n",
    "            print(value,nextNode,nextNodeName)\n",
    "            if isinstance(nextNode,dict):\n",
    "               draw(nextNode,firstNodeName,value)\n",
    "            else:\n",
    "                dot.node(name=nextNodeName,label=nextNode)\n",
    "                dot.edge(firstNodeName,nextNodeName,label=str(value))\n",
    "\n",
    "    draw(tree)\n",
    "    # 显示决策树图像\n",
    "    dot.view()"
   ]
  },
  {
   "cell_type": "code",
   "execution_count": 373,
   "metadata": {},
   "outputs": [
    {
     "name": "stdout",
     "output_type": "stream",
     "text": [
      "666 65\n",
      "*************** 信贷情况 69 E\n",
      "0 {'有自己的房子': {0: 'no', 1: 'yes'}} J\n",
      "*************** 有自己的房子 77 M\n",
      "0 no R\n",
      "1 yes W\n",
      "1 {'有自己的房子': {0: {'有工作': {0: 'no', 1: 'yes'}}, 1: 'yes'}} [\n",
      "*************** 有自己的房子 93 ]\n",
      "0 {'有工作': {0: 'no', 1: 'yes'}} b\n",
      "*************** 有工作 101 e\n",
      "0 no j\n",
      "1 yes o\n",
      "1 yes s\n",
      "2 yes x\n"
     ]
    }
   ],
   "source": [
    "drawTree(mytree)"
   ]
  },
  {
   "cell_type": "markdown",
   "metadata": {},
   "source": [
    "# 使用sklearn实现决策树，并且完成可视化"
   ]
  },
  {
   "cell_type": "markdown",
   "metadata": {},
   "source": [
    "使用sklearn完成的决策树，与上方自己的算法得到决策树有所不同，应该是 sklearn使用了其他优化的算法，等待深入研究后补充"
   ]
  },
  {
   "cell_type": "code",
   "execution_count": 217,
   "metadata": {},
   "outputs": [],
   "source": [
    "# 把数据的特征和判断结果拆分\n",
    "trainx = [entity[0:4] for entity in dataSet]\n",
    "trainy = [entity[4] for entity in dataSet]"
   ]
  },
  {
   "cell_type": "code",
   "execution_count": 218,
   "metadata": {
    "collapsed": true
   },
   "outputs": [
    {
     "data": {
      "text/plain": [
       "([[0, 0, 0, 0],\n",
       "  [0, 0, 0, 1],\n",
       "  [0, 1, 0, 1],\n",
       "  [0, 1, 1, 0],\n",
       "  [0, 0, 0, 0],\n",
       "  [1, 0, 0, 0],\n",
       "  [1, 0, 0, 1],\n",
       "  [1, 1, 1, 1],\n",
       "  [1, 0, 1, 2],\n",
       "  [1, 0, 1, 2],\n",
       "  [2, 0, 1, 2],\n",
       "  [2, 0, 1, 1],\n",
       "  [2, 1, 0, 1],\n",
       "  [2, 1, 0, 2],\n",
       "  [2, 0, 0, 0]],\n",
       " ['no',\n",
       "  'no',\n",
       "  'yes',\n",
       "  'yes',\n",
       "  'no',\n",
       "  'no',\n",
       "  'no',\n",
       "  'yes',\n",
       "  'yes',\n",
       "  'yes',\n",
       "  'yes',\n",
       "  'yes',\n",
       "  'yes',\n",
       "  'yes',\n",
       "  'no'])"
      ]
     },
     "execution_count": 218,
     "metadata": {},
     "output_type": "execute_result"
    }
   ],
   "source": [
    "trainx,trainy"
   ]
  },
  {
   "cell_type": "code",
   "execution_count": 219,
   "metadata": {},
   "outputs": [],
   "source": [
    "from sklearn import tree\n",
    "import pydotplus\n",
    "import graphviz\n",
    "from sklearn.externals.six import StringIO\n",
    "from IPython.display import Image "
   ]
  },
  {
   "cell_type": "code",
   "execution_count": 220,
   "metadata": {},
   "outputs": [],
   "source": [
    "# 创建决策树，最大深度为4\n",
    "sklearnTree = tree.DecisionTreeClassifier(max_depth=4)"
   ]
  },
  {
   "cell_type": "code",
   "execution_count": 221,
   "metadata": {},
   "outputs": [
    {
     "data": {
      "text/plain": [
       "DecisionTreeClassifier(class_weight=None, criterion='gini', max_depth=4,\n",
       "                       max_features=None, max_leaf_nodes=None,\n",
       "                       min_impurity_decrease=0.0, min_impurity_split=None,\n",
       "                       min_samples_leaf=1, min_samples_split=2,\n",
       "                       min_weight_fraction_leaf=0.0, presort=False,\n",
       "                       random_state=None, splitter='best')"
      ]
     },
     "execution_count": 221,
     "metadata": {},
     "output_type": "execute_result"
    }
   ],
   "source": [
    "# 给决策树喂入数据\n",
    "sklearnTree.fit(trainx,trainy)"
   ]
  },
  {
   "cell_type": "code",
   "execution_count": 235,
   "metadata": {},
   "outputs": [
    {
     "data": {
      "text/plain": [
       "array(['no'], dtype='<U3')"
      ]
     },
     "execution_count": 235,
     "metadata": {},
     "output_type": "execute_result"
    }
   ],
   "source": [
    "# 测试决策树\n",
    "sklearnTree.predict([[2,0,0,0]])"
   ]
  },
  {
   "cell_type": "code",
   "execution_count": 258,
   "metadata": {},
   "outputs": [],
   "source": [
    "dot_data = StringIO()\n",
    "# 转化为graphviz画图所用格式，输出到dot_data中\n",
    "tree.export_graphviz(sklearnTree, out_file = dot_data,feature_names = labels1, class_names=[\"yes\",\"no\"],filled=True, rounded=True,\n",
    "                    special_characters=True)"
   ]
  },
  {
   "cell_type": "code",
   "execution_count": 259,
   "metadata": {},
   "outputs": [
    {
     "data": {
      "text/plain": [
       "True"
      ]
     },
     "execution_count": 259,
     "metadata": {},
     "output_type": "execute_result"
    }
   ],
   "source": [
    "# 使用pydotplus中的画图接口调用graphviz的画图接口\n",
    "graph = pydotplus.graph_from_dot_data(dot_data.getvalue())\n",
    "graph.write_pdf(\"tree.pdf\")"
   ]
  },
  {
   "cell_type": "code",
   "execution_count": 260,
   "metadata": {},
   "outputs": [
    {
     "data": {
      "image/png": "[encoded data removed]",
      "text/plain": [
       "<IPython.core.display.Image object>"
      ]
     },
     "metadata": {},
     "output_type": "display_data"
    }
   ],
   "source": [
    "display(Image(graph.create_png()))"
   ]
  }
 ],
 "metadata": {
  "kernelspec": {
   "display_name": "Python 3",
   "language": "python",
   "name": "python3"
  },
  "language_info": {
   "codemirror_mode": {
    "name": "ipython",
    "version": 3
   },
   "file_extension": ".py",
   "mimetype": "text/x-python",
   "name": "python",
   "nbconvert_exporter": "python",
   "pygments_lexer": "ipython3",
   "version": "3.6.7"
  }
 },
 "nbformat": 4,
 "nbformat_minor": 2
}
