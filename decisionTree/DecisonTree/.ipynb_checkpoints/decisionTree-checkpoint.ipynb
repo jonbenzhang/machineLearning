{
 "cells": [
  {
   "cell_type": "code",
   "execution_count": 145,
   "metadata": {},
   "outputs": [],
   "source": [
    "import math\n",
    "import operator"
   ]
  },
  {
   "cell_type": "code",
   "execution_count": 146,
   "metadata": {},
   "outputs": [],
   "source": [
    "def informationEntropy(dataset):\n",
    "    \"\"\"\n",
    "    函数声明:计算给定数据集的信息熵\n",
    "    Parameters:\n",
    "            dataset:要求信息熵的数据集\n",
    "    Return:\n",
    "            entopy:求出的信息熵\n",
    "    \"\"\"\n",
    "    # 要返回的信息熵\n",
    "    entropy = 0\n",
    "    numbersOfEntity = len(dataset)\n",
    "    # 取dataset中所有拥有的种类，转化为集合去重\n",
    "    allClassifiesCount = {}\n",
    "    for entity in dataset:\n",
    "        entityClassify = entity[-1]\n",
    "        if not entityClassify in allClassifiesCount:\n",
    "            allClassifiesCount[entityClassify] = 0\n",
    "        \n",
    "        allClassifiesCount[entityClassify]+=1\n",
    "    for classify in allClassifiesCount:\n",
    "        probaility = allClassifiesCount[classify]/numbersOfEntity\n",
    "        entropy-=probaility*math.log(probaility,2) \n",
    "    return entropy\n",
    "            \n",
    "    \n",
    "    "
   ]
  },
  {
   "cell_type": "code",
   "execution_count": 36,
   "metadata": {},
   "outputs": [],
   "source": [
    "a= [[1],[1],[2]]"
   ]
  },
  {
   "cell_type": "code",
   "execution_count": 37,
   "metadata": {},
   "outputs": [
    {
     "data": {
      "text/plain": [
       "0.9182958340544896"
      ]
     },
     "execution_count": 37,
     "metadata": {},
     "output_type": "execute_result"
    }
   ],
   "source": [
    "informationEntropy(a)"
   ]
  },
  {
   "cell_type": "code",
   "execution_count": 147,
   "metadata": {},
   "outputs": [],
   "source": [
    "def createDataSet():\n",
    "    \"\"\"\n",
    "    函数说明:创建数据集\n",
    "    Return:\n",
    "            dataSet:创建的数据集\n",
    "            labels:数据集中数据对应的标签\n",
    "    \n",
    "    \"\"\"\n",
    "    dataSet = [[0, 0, 0, 0, 'no'],#数据集\n",
    "             [0, 0, 0, 1, 'no'],\n",
    "             [0, 1, 0, 1, 'yes'],\n",
    "             [0, 1, 1, 0, 'yes'],\n",
    "             [0, 0, 0, 0, 'no'],\n",
    "             [1, 0, 0, 0, 'no'],\n",
    "             [1, 0, 0, 1, 'no'],\n",
    "             [1, 1, 1, 1, 'yes'],\n",
    "             [1, 0, 1, 2, 'yes'],\n",
    "             [1, 0, 1, 2, 'yes'],\n",
    "             [2, 0, 1, 2, 'yes'],\n",
    "             [2, 0, 1, 1, 'yes'],\n",
    "             [2, 1, 0, 1, 'yes'],\n",
    "             [2, 1, 0, 2, 'yes'],\n",
    "             [2, 0, 0, 0, 'no']]\n",
    "    labels = ['年龄', '有工作', '有自己的房子', '信贷情况']#特征标签\n",
    "    return dataSet, labels"
   ]
  },
  {
   "cell_type": "code",
   "execution_count": 82,
   "metadata": {},
   "outputs": [],
   "source": [
    "dataSet, labels1 = createDataSet()"
   ]
  },
  {
   "cell_type": "code",
   "execution_count": 45,
   "metadata": {},
   "outputs": [
    {
     "data": {
      "text/plain": [
       "0.9709505944546686"
      ]
     },
     "execution_count": 45,
     "metadata": {},
     "output_type": "execute_result"
    }
   ],
   "source": [
    "informationEntropy(dataSet)"
   ]
  },
  {
   "cell_type": "code",
   "execution_count": 148,
   "metadata": {},
   "outputs": [],
   "source": [
    "def splitDataset(dataset,axis,value):\n",
    "    \"\"\"\n",
    "    函数说明:对数据集按照特征进行划分，如果axis上的变量值等于value，就添加到要返回的数据集中\n",
    "    Parameters:\n",
    "            dataset:数据集\n",
    "            axis:要进行划分的特征\n",
    "            value:划分要求的特征值\n",
    "    Return:\n",
    "            returnDataset:划分后的数据集\n",
    "    \"\"\"\n",
    "    returnDataset=[]\n",
    "    for entry in dataset:\n",
    "        if entry[axis] == value:\n",
    "            returnDataset.append(entry[0:axis]+entry[axis+1:])\n",
    "    return returnDataset\n",
    "            \n",
    "            "
   ]
  },
  {
   "cell_type": "code",
   "execution_count": 111,
   "metadata": {},
   "outputs": [
    {
     "data": {
      "text/plain": [
       "[]"
      ]
     },
     "execution_count": 111,
     "metadata": {},
     "output_type": "execute_result"
    }
   ],
   "source": [
    "splitDataset(dataSet,0,0)"
   ]
  },
  {
   "cell_type": "code",
   "execution_count": 149,
   "metadata": {},
   "outputs": [],
   "source": [
    "def selectBestSplit(dataset):\n",
    "    \"\"\"\n",
    "    函数说明：对数据集用每种特征进行划分，选择信息增益的特征进行划分\n",
    "    Parameters:\n",
    "            dataset:要进行划分的数据集\n",
    "    Return:\n",
    "            feature:要选取的特征\n",
    "    \"\"\"\n",
    "    # 数据集中所有实体\n",
    "    numberOfEntity = len(dataset)\n",
    "    # 特征的数量\n",
    "    numberOfFeature = len(dataset[0])-1\n",
    "    # 未进行划分时的信息熵\n",
    "    baseInformationEntropy = informationEntropy(dataset)\n",
    "    # 最好的信息增益\n",
    "    bestInformationGain = 0.0\n",
    "    # 进行划分信息增益最多的特征\n",
    "    bestFesture = -1\n",
    "    for feature in range(numberOfFeature):\n",
    "        \"\"\"\n",
    "        依次对每一种特征进行性划分，并计算使用这种特征进行划分的信息熵\n",
    "        \"\"\"\n",
    "        # 该特征的所有可能的值\n",
    "        featureOfValues = set([entity[feature] for entity in dataset])\n",
    "        # 这次划分得到的信息熵\n",
    "        newInformationEntropy = 0.0\n",
    "        for value in featureOfValues:\n",
    "            \"\"\"\n",
    "            依次按照此特征的所有可能的值进行划分\n",
    "            \"\"\"\n",
    "            # 调用函数，得到划分得到的数据集合\n",
    "            oneOfSplitDataset = splitDataset(dataset,feature,value)\n",
    "            # 得到的集合的唱的\n",
    "            lenthOneOfSplitDataset = len(oneOfSplitDataset)\n",
    "            # 使用这种特征的可能的值得到实体的概率\n",
    "            probaility = lenthOneOfSplitDataset/numberOfEntity\n",
    "            # 计算这种特征划分后的信息熵\n",
    "            newInformationEntropy+=probaility*informationEntropy(oneOfSplitDataset)\n",
    "        # 计算信息增益\n",
    "        informationGain = baseInformationEntropy - newInformationEntropy\n",
    "        # 找到信息增益最多的划分特征\n",
    "        if(informationGain>bestInformationGain):\n",
    "            bestFesture = feature\n",
    "    return bestFesture\n",
    "            \n",
    "            \n",
    "        \n",
    "    "
   ]
  },
  {
   "cell_type": "code",
   "execution_count": 127,
   "metadata": {},
   "outputs": [
    {
     "name": "stdout",
     "output_type": "stream",
     "text": [
      "划分 [[0, 0, 0, 0, 'no'], [0, 0, 0, 1, 'no'], [0, 1, 0, 1, 'yes'], [0, 1, 1, 0, 'yes'], [0, 0, 0, 0, 'no'], [1, 0, 0, 0, 'no'], [1, 0, 0, 1, 'no'], [1, 1, 1, 1, 'yes'], [1, 0, 1, 2, 'yes'], [1, 0, 1, 2, 'yes'], [2, 0, 1, 2, 'yes'], [2, 0, 1, 1, 'yes'], [2, 1, 0, 1, 'yes'], [2, 1, 0, 2, 'yes'], [2, 0, 0, 0, 'no']]\n",
      "0.9709505944546686 0.8879430945988998 0\n",
      "0.9709505944546686 0.6473003963031123 1\n",
      "0.9709505944546686 0.5509775004326937 2\n",
      "0.9709505944546686 0.6079610319175832 3\n"
     ]
    },
    {
     "data": {
      "text/plain": [
       "3"
      ]
     },
     "execution_count": 127,
     "metadata": {},
     "output_type": "execute_result"
    }
   ],
   "source": [
    "selectBestSplit(dataSet)"
   ]
  },
  {
   "cell_type": "code",
   "execution_count": 150,
   "metadata": {},
   "outputs": [],
   "source": [
    "def majorityCut(classifyList):\n",
    "    \"\"\"\n",
    "    函数说明：找到最多的分类\n",
    "    Parameters: \n",
    "            classifyList：要查找的列表\n",
    "    Return:\n",
    "            sortclassifySet[0][0]：列表中占比最大的种类\n",
    "    \"\"\"\n",
    "    classifySet = {}\n",
    "    for classify in classifyList:\n",
    "        if classify not in classifySet:\n",
    "            classifySet[classify] = 0\n",
    "        classifySet[classify]+=1\n",
    "    sortclassifySet = sorted(classifySet.items(),key = operator.itemgetter(1), reverse=True)\n",
    "    return sortclassifySet[0][0]\n",
    "        "
   ]
  },
  {
   "cell_type": "code",
   "execution_count": 68,
   "metadata": {},
   "outputs": [
    {
     "data": {
      "text/plain": [
       "1"
      ]
     },
     "execution_count": 68,
     "metadata": {},
     "output_type": "execute_result"
    }
   ],
   "source": [
    "majorityCut(a)"
   ]
  },
  {
   "cell_type": "code",
   "execution_count": 154,
   "metadata": {},
   "outputs": [],
   "source": [
    "def createDecisionTree(dataset,labels):\n",
    "    \"\"\"\n",
    "    函数说明:创建决策树\n",
    "    Parameters:\n",
    "            dataset:要创建决策树的数据集\n",
    "            labels:分类的类别标签\n",
    "    Return:\n",
    "            decisionTree:决策树\n",
    "    \n",
    "    \"\"\"\n",
    "    classList = [entity[-1] for entity in dataset]\n",
    "    # 判断是否结束并返回\n",
    "    if len(set(classList))==1:\n",
    "        return classList[0]\n",
    "    if len(dataset[0])==1:\n",
    "        return majorityCut(classList)\n",
    "    #找到最佳划分特征\n",
    "    bestFeture = selectBestSplit(dataset)\n",
    "    #最佳划分特征的标签\n",
    "    bestFetureLabel = labels[bestFeture]\n",
    "    # 删除已经使用过的特征\n",
    "    del labels[bestFeture]\n",
    "    # 决策数特征对应的判断\n",
    "    DecisionTree = {bestFetureLabel:{}}\n",
    "    # 查找此特征的所有值\n",
    "    bestFetureValues = set([entity[bestFeture] for entity in dataset])\n",
    "    for bestFetureValue in bestFetureValues:\n",
    "        \"\"\"\n",
    "        按照此特征的不同，划分数据集\n",
    "        \"\"\"\n",
    "        nextLabels = labels[:]\n",
    "        DecisionTree[bestFetureLabel][bestFetureValue] = \\\n",
    "        createDecisionTree(splitDataset(dataset,bestFeture,bestFetureValue),nextLabels)\n",
    "    return DecisionTree\n",
    "    \n",
    "    \n",
    "\n",
    "    "
   ]
  },
  {
   "cell_type": "code",
   "execution_count": 155,
   "metadata": {},
   "outputs": [],
   "source": [
    "dataSet, labels1 = createDataSet()"
   ]
  },
  {
   "cell_type": "code",
   "execution_count": 156,
   "metadata": {},
   "outputs": [
    {
     "data": {
      "text/plain": [
       "{'信贷情况': {0: {'有自己的房子': {0: 'no', 1: 'yes'}},\n",
       "  1: {'有自己的房子': {0: {'有工作': {0: 'no', 1: 'yes'}}, 1: 'yes'}},\n",
       "  2: 'yes'}}"
      ]
     },
     "execution_count": 156,
     "metadata": {},
     "output_type": "execute_result"
    }
   ],
   "source": [
    "createDecisionTree(dataSet,labels1)"
   ]
  },
  {
   "cell_type": "code",
   "execution_count": 96,
   "metadata": {},
   "outputs": [
    {
     "data": {
      "text/plain": [
       "['年龄', '有工作', '有自己的房子']"
      ]
     },
     "execution_count": 96,
     "metadata": {},
     "output_type": "execute_result"
    }
   ],
   "source": [
    "labels1"
   ]
  },
  {
   "cell_type": "code",
   "execution_count": 9,
   "metadata": {},
   "outputs": [
    {
     "name": "stdout",
     "output_type": "stream",
     "text": [
      "b\n",
      "c\n"
     ]
    }
   ],
   "source": [
    "for i in a:\n",
    "    print(i)"
   ]
  },
  {
   "cell_type": "code",
   "execution_count": 25,
   "metadata": {},
   "outputs": [
    {
     "data": {
      "text/plain": [
       "1.0"
      ]
     },
     "execution_count": 25,
     "metadata": {},
     "output_type": "execute_result"
    }
   ],
   "source": [
    "math.log2(2)"
   ]
  },
  {
   "cell_type": "code",
   "execution_count": 46,
   "metadata": {},
   "outputs": [
    {
     "data": {
      "text/plain": [
       "[2, 3]"
      ]
     },
     "execution_count": 46,
     "metadata": {},
     "output_type": "execute_result"
    }
   ],
   "source": [
    "[2]+[3]"
   ]
  },
  {
   "cell_type": "code",
   "execution_count": 69,
   "metadata": {},
   "outputs": [],
   "source": [
    "a={\"b\":{}}\n",
    "c={\"d\":{}}"
   ]
  },
  {
   "cell_type": "code",
   "execution_count": 70,
   "metadata": {},
   "outputs": [],
   "source": [
    "a[\"b\"]=c"
   ]
  },
  {
   "cell_type": "code",
   "execution_count": 71,
   "metadata": {},
   "outputs": [
    {
     "data": {
      "text/plain": [
       "{'b': {'d': {}}}"
      ]
     },
     "execution_count": 71,
     "metadata": {},
     "output_type": "execute_result"
    }
   ],
   "source": [
    "a"
   ]
  },
  {
   "cell_type": "code",
   "execution_count": null,
   "metadata": {},
   "outputs": [],
   "source": []
  }
 ],
 "metadata": {
  "kernelspec": {
   "display_name": "Python 3",
   "language": "python",
   "name": "python3"
  },
  "language_info": {
   "codemirror_mode": {
    "name": "ipython",
    "version": 3
   },
   "file_extension": ".py",
   "mimetype": "text/x-python",
   "name": "python",
   "nbconvert_exporter": "python",
   "pygments_lexer": "ipython3",
   "version": "3.6.7"
  }
 },
 "nbformat": 4,
 "nbformat_minor": 2
}
